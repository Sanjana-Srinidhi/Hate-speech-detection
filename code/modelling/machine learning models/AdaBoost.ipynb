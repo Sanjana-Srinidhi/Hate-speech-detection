{
  "cells": [
    {
      "cell_type": "code",
      "source": [
        "from google.colab import drive\n",
        "drive.mount('/content/drive')"
      ],
      "metadata": {
        "colab": {
          "base_uri": "https://localhost:8080/"
        },
        "id": "NYmw2eP4nPx1",
        "outputId": "8e39b81c-71b5-4e2c-f410-cc0b0194ef8b"
      },
      "execution_count": 1,
      "outputs": [
        {
          "output_type": "stream",
          "name": "stdout",
          "text": [
            "Mounted at /content/drive\n"
          ]
        }
      ]
    },
    {
      "cell_type": "code",
      "execution_count": 2,
      "metadata": {
        "id": "D29avR0Z0mZ0"
      },
      "outputs": [],
      "source": [
        "import numpy as np\n",
        "import pandas as pd\n",
        "import seaborn as sns\n",
        "from sklearn.ensemble import AdaBoostClassifier\n",
        "from sklearn.pipeline import Pipeline\n",
        "from sklearn.feature_extraction.text import TfidfTransformer\n",
        "from sklearn.feature_extraction.text import CountVectorizer, TfidfVectorizer\n",
        "from sklearn.metrics import accuracy_score, classification_report, confusion_matrix"
      ]
    },
    {
      "cell_type": "code",
      "execution_count": 29,
      "metadata": {
        "colab": {
          "base_uri": "https://localhost:8080/",
          "height": 206
        },
        "id": "doQZLePW1rwQ",
        "outputId": "144ce9fc-34ed-46b9-9b21-3bef10b51262"
      },
      "outputs": [
        {
          "output_type": "execute_result",
          "data": {
            "text/plain": [
              "                                                text  label\n",
              "0  bwhen im telling people much checking account ...      1\n",
              "1  banwar alawlaki june september anwars life hig...      0\n",
              "2  ball black people suspected trying pull something      0\n",
              "3  bevery asian feels need camera take photos eve...      0\n",
              "4  bpeople blind low vision treated respect digni...      1"
            ],
            "text/html": [
              "\n",
              "  <div id=\"df-f1c8082d-b618-44ce-bdb7-23d984ee47ef\">\n",
              "    <div class=\"colab-df-container\">\n",
              "      <div>\n",
              "<style scoped>\n",
              "    .dataframe tbody tr th:only-of-type {\n",
              "        vertical-align: middle;\n",
              "    }\n",
              "\n",
              "    .dataframe tbody tr th {\n",
              "        vertical-align: top;\n",
              "    }\n",
              "\n",
              "    .dataframe thead th {\n",
              "        text-align: right;\n",
              "    }\n",
              "</style>\n",
              "<table border=\"1\" class=\"dataframe\">\n",
              "  <thead>\n",
              "    <tr style=\"text-align: right;\">\n",
              "      <th></th>\n",
              "      <th>text</th>\n",
              "      <th>label</th>\n",
              "    </tr>\n",
              "  </thead>\n",
              "  <tbody>\n",
              "    <tr>\n",
              "      <th>0</th>\n",
              "      <td>bwhen im telling people much checking account ...</td>\n",
              "      <td>1</td>\n",
              "    </tr>\n",
              "    <tr>\n",
              "      <th>1</th>\n",
              "      <td>banwar alawlaki june september anwars life hig...</td>\n",
              "      <td>0</td>\n",
              "    </tr>\n",
              "    <tr>\n",
              "      <th>2</th>\n",
              "      <td>ball black people suspected trying pull something</td>\n",
              "      <td>0</td>\n",
              "    </tr>\n",
              "    <tr>\n",
              "      <th>3</th>\n",
              "      <td>bevery asian feels need camera take photos eve...</td>\n",
              "      <td>0</td>\n",
              "    </tr>\n",
              "    <tr>\n",
              "      <th>4</th>\n",
              "      <td>bpeople blind low vision treated respect digni...</td>\n",
              "      <td>1</td>\n",
              "    </tr>\n",
              "  </tbody>\n",
              "</table>\n",
              "</div>\n",
              "      <button class=\"colab-df-convert\" onclick=\"convertToInteractive('df-f1c8082d-b618-44ce-bdb7-23d984ee47ef')\"\n",
              "              title=\"Convert this dataframe to an interactive table.\"\n",
              "              style=\"display:none;\">\n",
              "        \n",
              "  <svg xmlns=\"http://www.w3.org/2000/svg\" height=\"24px\"viewBox=\"0 0 24 24\"\n",
              "       width=\"24px\">\n",
              "    <path d=\"M0 0h24v24H0V0z\" fill=\"none\"/>\n",
              "    <path d=\"M18.56 5.44l.94 2.06.94-2.06 2.06-.94-2.06-.94-.94-2.06-.94 2.06-2.06.94zm-11 1L8.5 8.5l.94-2.06 2.06-.94-2.06-.94L8.5 2.5l-.94 2.06-2.06.94zm10 10l.94 2.06.94-2.06 2.06-.94-2.06-.94-.94-2.06-.94 2.06-2.06.94z\"/><path d=\"M17.41 7.96l-1.37-1.37c-.4-.4-.92-.59-1.43-.59-.52 0-1.04.2-1.43.59L10.3 9.45l-7.72 7.72c-.78.78-.78 2.05 0 2.83L4 21.41c.39.39.9.59 1.41.59.51 0 1.02-.2 1.41-.59l7.78-7.78 2.81-2.81c.8-.78.8-2.07 0-2.86zM5.41 20L4 18.59l7.72-7.72 1.47 1.35L5.41 20z\"/>\n",
              "  </svg>\n",
              "      </button>\n",
              "      \n",
              "  <style>\n",
              "    .colab-df-container {\n",
              "      display:flex;\n",
              "      flex-wrap:wrap;\n",
              "      gap: 12px;\n",
              "    }\n",
              "\n",
              "    .colab-df-convert {\n",
              "      background-color: #E8F0FE;\n",
              "      border: none;\n",
              "      border-radius: 50%;\n",
              "      cursor: pointer;\n",
              "      display: none;\n",
              "      fill: #1967D2;\n",
              "      height: 32px;\n",
              "      padding: 0 0 0 0;\n",
              "      width: 32px;\n",
              "    }\n",
              "\n",
              "    .colab-df-convert:hover {\n",
              "      background-color: #E2EBFA;\n",
              "      box-shadow: 0px 1px 2px rgba(60, 64, 67, 0.3), 0px 1px 3px 1px rgba(60, 64, 67, 0.15);\n",
              "      fill: #174EA6;\n",
              "    }\n",
              "\n",
              "    [theme=dark] .colab-df-convert {\n",
              "      background-color: #3B4455;\n",
              "      fill: #D2E3FC;\n",
              "    }\n",
              "\n",
              "    [theme=dark] .colab-df-convert:hover {\n",
              "      background-color: #434B5C;\n",
              "      box-shadow: 0px 1px 3px 1px rgba(0, 0, 0, 0.15);\n",
              "      filter: drop-shadow(0px 1px 2px rgba(0, 0, 0, 0.3));\n",
              "      fill: #FFFFFF;\n",
              "    }\n",
              "  </style>\n",
              "\n",
              "      <script>\n",
              "        const buttonEl =\n",
              "          document.querySelector('#df-f1c8082d-b618-44ce-bdb7-23d984ee47ef button.colab-df-convert');\n",
              "        buttonEl.style.display =\n",
              "          google.colab.kernel.accessAllowed ? 'block' : 'none';\n",
              "\n",
              "        async function convertToInteractive(key) {\n",
              "          const element = document.querySelector('#df-f1c8082d-b618-44ce-bdb7-23d984ee47ef');\n",
              "          const dataTable =\n",
              "            await google.colab.kernel.invokeFunction('convertToInteractive',\n",
              "                                                     [key], {});\n",
              "          if (!dataTable) return;\n",
              "\n",
              "          const docLinkHtml = 'Like what you see? Visit the ' +\n",
              "            '<a target=\"_blank\" href=https://colab.research.google.com/notebooks/data_table.ipynb>data table notebook</a>'\n",
              "            + ' to learn more about interactive tables.';\n",
              "          element.innerHTML = '';\n",
              "          dataTable['output_type'] = 'display_data';\n",
              "          await google.colab.output.renderOutput(dataTable, element);\n",
              "          const docLink = document.createElement('div');\n",
              "          docLink.innerHTML = docLinkHtml;\n",
              "          element.appendChild(docLink);\n",
              "        }\n",
              "      </script>\n",
              "    </div>\n",
              "  </div>\n",
              "  "
            ]
          },
          "metadata": {},
          "execution_count": 29
        }
      ],
      "source": [
        "df_train = pd.read_csv('/content/drive/MyDrive/MI/data/train.csv')\n",
        "df_train.head()"
      ]
    },
    {
      "cell_type": "code",
      "execution_count": 30,
      "metadata": {
        "colab": {
          "base_uri": "https://localhost:8080/",
          "height": 614
        },
        "id": "mHkqFL1q1rqQ",
        "outputId": "8071ccfd-751d-48bb-d19c-165282d5c934"
      },
      "outputs": [
        {
          "output_type": "execute_result",
          "data": {
            "text/plain": [
              "                                                text target_group  \\\n",
              "0  b'we should be proud of our heritage, but we s...        asian   \n",
              "1  b\"all women are beautiful, even those that don...        women   \n",
              "2  b'i have a sister who is a doctor and a brothe...        women   \n",
              "3  b'every other undesirable quality associated w...        black   \n",
              "4  b'she does not have the same physical strength...        women   \n",
              "\n",
              "                      factual?                 ingroup_effect  \\\n",
              "0                      opinion  doesn't use in-group language   \n",
              "1  neither factual nor opinion  doesn't use in-group language   \n",
              "2  neither factual nor opinion  doesn't use in-group language   \n",
              "3  neither factual nor opinion  doesn't use in-group language   \n",
              "4  neither factual nor opinion  doesn't use in-group language   \n",
              "\n",
              "                           lewd       framing  \\\n",
              "0  doesn't contain lewd content         moral   \n",
              "1  doesn't contain lewd content  disagreement   \n",
              "2  doesn't contain lewd content  disagreement   \n",
              "3  doesn't contain lewd content         moral   \n",
              "4  doesn't contain lewd content         cause   \n",
              "\n",
              "                                     predicted_group  \\\n",
              "0                    it is unclear who is referenced   \n",
              "1                 the text directly references women   \n",
              "2                    it is unclear who is referenced   \n",
              "3                 the text directly references black   \n",
              "4  ['it is unclear who is referenced', 'the text ...   \n",
              "\n",
              "                        stereotyping    intent  toxicity_ai  toxicity_human  \\\n",
              "0  doesn't use positive stereotyping  2.000000     2.000000        2.000000   \n",
              "1                       disagreement  1.000000     1.333333        1.333333   \n",
              "2  doesn't use positive stereotyping  1.000000     1.000000        1.000000   \n",
              "3  doesn't use positive stereotyping  4.000000     4.333333        4.333333   \n",
              "4  doesn't use positive stereotyping  2.666667     3.000000        3.333333   \n",
              "\n",
              "  predicted_author  label actual_method  \n",
              "0            human      1           CBS  \n",
              "1            human      1          TopK  \n",
              "2            human      1           CBS  \n",
              "3            human      0          TopK  \n",
              "4               ai      0          TopK  "
            ],
            "text/html": [
              "\n",
              "  <div id=\"df-42f57cb0-57b8-4b54-8563-82f68307c155\">\n",
              "    <div class=\"colab-df-container\">\n",
              "      <div>\n",
              "<style scoped>\n",
              "    .dataframe tbody tr th:only-of-type {\n",
              "        vertical-align: middle;\n",
              "    }\n",
              "\n",
              "    .dataframe tbody tr th {\n",
              "        vertical-align: top;\n",
              "    }\n",
              "\n",
              "    .dataframe thead th {\n",
              "        text-align: right;\n",
              "    }\n",
              "</style>\n",
              "<table border=\"1\" class=\"dataframe\">\n",
              "  <thead>\n",
              "    <tr style=\"text-align: right;\">\n",
              "      <th></th>\n",
              "      <th>text</th>\n",
              "      <th>target_group</th>\n",
              "      <th>factual?</th>\n",
              "      <th>ingroup_effect</th>\n",
              "      <th>lewd</th>\n",
              "      <th>framing</th>\n",
              "      <th>predicted_group</th>\n",
              "      <th>stereotyping</th>\n",
              "      <th>intent</th>\n",
              "      <th>toxicity_ai</th>\n",
              "      <th>toxicity_human</th>\n",
              "      <th>predicted_author</th>\n",
              "      <th>label</th>\n",
              "      <th>actual_method</th>\n",
              "    </tr>\n",
              "  </thead>\n",
              "  <tbody>\n",
              "    <tr>\n",
              "      <th>0</th>\n",
              "      <td>b'we should be proud of our heritage, but we s...</td>\n",
              "      <td>asian</td>\n",
              "      <td>opinion</td>\n",
              "      <td>doesn't use in-group language</td>\n",
              "      <td>doesn't contain lewd content</td>\n",
              "      <td>moral</td>\n",
              "      <td>it is unclear who is referenced</td>\n",
              "      <td>doesn't use positive stereotyping</td>\n",
              "      <td>2.000000</td>\n",
              "      <td>2.000000</td>\n",
              "      <td>2.000000</td>\n",
              "      <td>human</td>\n",
              "      <td>1</td>\n",
              "      <td>CBS</td>\n",
              "    </tr>\n",
              "    <tr>\n",
              "      <th>1</th>\n",
              "      <td>b\"all women are beautiful, even those that don...</td>\n",
              "      <td>women</td>\n",
              "      <td>neither factual nor opinion</td>\n",
              "      <td>doesn't use in-group language</td>\n",
              "      <td>doesn't contain lewd content</td>\n",
              "      <td>disagreement</td>\n",
              "      <td>the text directly references women</td>\n",
              "      <td>disagreement</td>\n",
              "      <td>1.000000</td>\n",
              "      <td>1.333333</td>\n",
              "      <td>1.333333</td>\n",
              "      <td>human</td>\n",
              "      <td>1</td>\n",
              "      <td>TopK</td>\n",
              "    </tr>\n",
              "    <tr>\n",
              "      <th>2</th>\n",
              "      <td>b'i have a sister who is a doctor and a brothe...</td>\n",
              "      <td>women</td>\n",
              "      <td>neither factual nor opinion</td>\n",
              "      <td>doesn't use in-group language</td>\n",
              "      <td>doesn't contain lewd content</td>\n",
              "      <td>disagreement</td>\n",
              "      <td>it is unclear who is referenced</td>\n",
              "      <td>doesn't use positive stereotyping</td>\n",
              "      <td>1.000000</td>\n",
              "      <td>1.000000</td>\n",
              "      <td>1.000000</td>\n",
              "      <td>human</td>\n",
              "      <td>1</td>\n",
              "      <td>CBS</td>\n",
              "    </tr>\n",
              "    <tr>\n",
              "      <th>3</th>\n",
              "      <td>b'every other undesirable quality associated w...</td>\n",
              "      <td>black</td>\n",
              "      <td>neither factual nor opinion</td>\n",
              "      <td>doesn't use in-group language</td>\n",
              "      <td>doesn't contain lewd content</td>\n",
              "      <td>moral</td>\n",
              "      <td>the text directly references black</td>\n",
              "      <td>doesn't use positive stereotyping</td>\n",
              "      <td>4.000000</td>\n",
              "      <td>4.333333</td>\n",
              "      <td>4.333333</td>\n",
              "      <td>human</td>\n",
              "      <td>0</td>\n",
              "      <td>TopK</td>\n",
              "    </tr>\n",
              "    <tr>\n",
              "      <th>4</th>\n",
              "      <td>b'she does not have the same physical strength...</td>\n",
              "      <td>women</td>\n",
              "      <td>neither factual nor opinion</td>\n",
              "      <td>doesn't use in-group language</td>\n",
              "      <td>doesn't contain lewd content</td>\n",
              "      <td>cause</td>\n",
              "      <td>['it is unclear who is referenced', 'the text ...</td>\n",
              "      <td>doesn't use positive stereotyping</td>\n",
              "      <td>2.666667</td>\n",
              "      <td>3.000000</td>\n",
              "      <td>3.333333</td>\n",
              "      <td>ai</td>\n",
              "      <td>0</td>\n",
              "      <td>TopK</td>\n",
              "    </tr>\n",
              "  </tbody>\n",
              "</table>\n",
              "</div>\n",
              "      <button class=\"colab-df-convert\" onclick=\"convertToInteractive('df-42f57cb0-57b8-4b54-8563-82f68307c155')\"\n",
              "              title=\"Convert this dataframe to an interactive table.\"\n",
              "              style=\"display:none;\">\n",
              "        \n",
              "  <svg xmlns=\"http://www.w3.org/2000/svg\" height=\"24px\"viewBox=\"0 0 24 24\"\n",
              "       width=\"24px\">\n",
              "    <path d=\"M0 0h24v24H0V0z\" fill=\"none\"/>\n",
              "    <path d=\"M18.56 5.44l.94 2.06.94-2.06 2.06-.94-2.06-.94-.94-2.06-.94 2.06-2.06.94zm-11 1L8.5 8.5l.94-2.06 2.06-.94-2.06-.94L8.5 2.5l-.94 2.06-2.06.94zm10 10l.94 2.06.94-2.06 2.06-.94-2.06-.94-.94-2.06-.94 2.06-2.06.94z\"/><path d=\"M17.41 7.96l-1.37-1.37c-.4-.4-.92-.59-1.43-.59-.52 0-1.04.2-1.43.59L10.3 9.45l-7.72 7.72c-.78.78-.78 2.05 0 2.83L4 21.41c.39.39.9.59 1.41.59.51 0 1.02-.2 1.41-.59l7.78-7.78 2.81-2.81c.8-.78.8-2.07 0-2.86zM5.41 20L4 18.59l7.72-7.72 1.47 1.35L5.41 20z\"/>\n",
              "  </svg>\n",
              "      </button>\n",
              "      \n",
              "  <style>\n",
              "    .colab-df-container {\n",
              "      display:flex;\n",
              "      flex-wrap:wrap;\n",
              "      gap: 12px;\n",
              "    }\n",
              "\n",
              "    .colab-df-convert {\n",
              "      background-color: #E8F0FE;\n",
              "      border: none;\n",
              "      border-radius: 50%;\n",
              "      cursor: pointer;\n",
              "      display: none;\n",
              "      fill: #1967D2;\n",
              "      height: 32px;\n",
              "      padding: 0 0 0 0;\n",
              "      width: 32px;\n",
              "    }\n",
              "\n",
              "    .colab-df-convert:hover {\n",
              "      background-color: #E2EBFA;\n",
              "      box-shadow: 0px 1px 2px rgba(60, 64, 67, 0.3), 0px 1px 3px 1px rgba(60, 64, 67, 0.15);\n",
              "      fill: #174EA6;\n",
              "    }\n",
              "\n",
              "    [theme=dark] .colab-df-convert {\n",
              "      background-color: #3B4455;\n",
              "      fill: #D2E3FC;\n",
              "    }\n",
              "\n",
              "    [theme=dark] .colab-df-convert:hover {\n",
              "      background-color: #434B5C;\n",
              "      box-shadow: 0px 1px 3px 1px rgba(0, 0, 0, 0.15);\n",
              "      filter: drop-shadow(0px 1px 2px rgba(0, 0, 0, 0.3));\n",
              "      fill: #FFFFFF;\n",
              "    }\n",
              "  </style>\n",
              "\n",
              "      <script>\n",
              "        const buttonEl =\n",
              "          document.querySelector('#df-42f57cb0-57b8-4b54-8563-82f68307c155 button.colab-df-convert');\n",
              "        buttonEl.style.display =\n",
              "          google.colab.kernel.accessAllowed ? 'block' : 'none';\n",
              "\n",
              "        async function convertToInteractive(key) {\n",
              "          const element = document.querySelector('#df-42f57cb0-57b8-4b54-8563-82f68307c155');\n",
              "          const dataTable =\n",
              "            await google.colab.kernel.invokeFunction('convertToInteractive',\n",
              "                                                     [key], {});\n",
              "          if (!dataTable) return;\n",
              "\n",
              "          const docLinkHtml = 'Like what you see? Visit the ' +\n",
              "            '<a target=\"_blank\" href=https://colab.research.google.com/notebooks/data_table.ipynb>data table notebook</a>'\n",
              "            + ' to learn more about interactive tables.';\n",
              "          element.innerHTML = '';\n",
              "          dataTable['output_type'] = 'display_data';\n",
              "          await google.colab.output.renderOutput(dataTable, element);\n",
              "          const docLink = document.createElement('div');\n",
              "          docLink.innerHTML = docLinkHtml;\n",
              "          element.appendChild(docLink);\n",
              "        }\n",
              "      </script>\n",
              "    </div>\n",
              "  </div>\n",
              "  "
            ]
          },
          "metadata": {},
          "execution_count": 30
        }
      ],
      "source": [
        "df_test = pd.read_csv('/content/drive/MyDrive/MI/data/test.csv')\n",
        "df_test.head()"
      ]
    },
    {
      "cell_type": "code",
      "execution_count": 31,
      "metadata": {
        "id": "zLj3Ww043pc3"
      },
      "outputs": [],
      "source": [
        "df_train = df_train.dropna()\n",
        "df_test = df_test.dropna()"
      ]
    },
    {
      "cell_type": "code",
      "execution_count": 32,
      "metadata": {
        "id": "ClQEOU6E2LNF"
      },
      "outputs": [],
      "source": [
        "x_train = df_train['text']\n",
        "y_train = df_train['label']\n",
        "x_test = df_test['text']\n",
        "y_test = df_test['label']"
      ]
    },
    {
      "cell_type": "code",
      "source": [
        "adab = Pipeline([('vect', CountVectorizer()), ('tfidf', TfidfTransformer()), ('clf', AdaBoostClassifier(n_estimators = 500, random_state = 42)),])\n",
        "adab.fit(x_train, y_train)"
      ],
      "metadata": {
        "colab": {
          "base_uri": "https://localhost:8080/"
        },
        "id": "x-OJPO0brQyR",
        "outputId": "b01866a3-3f55-4312-ff23-06d7e461e739"
      },
      "execution_count": 33,
      "outputs": [
        {
          "output_type": "execute_result",
          "data": {
            "text/plain": [
              "Pipeline(steps=[('vect', CountVectorizer()), ('tfidf', TfidfTransformer()),\n",
              "                ('clf', AdaBoostClassifier(n_estimators=500, random_state=42))])"
            ]
          },
          "metadata": {},
          "execution_count": 33
        }
      ]
    },
    {
      "cell_type": "code",
      "source": [
        "y_pred = adab.predict(x_test)\n",
        "score = accuracy_score(y_test, y_pred)\n",
        "print(f'Accuracy: {round(score * 100, 2)}%')"
      ],
      "metadata": {
        "id": "JZsdmmJBpKzc",
        "colab": {
          "base_uri": "https://localhost:8080/"
        },
        "outputId": "289b66f8-fd6b-4a6f-c208-597e2f7e49c6"
      },
      "execution_count": 34,
      "outputs": [
        {
          "output_type": "stream",
          "name": "stdout",
          "text": [
            "Accuracy: 74.62%\n"
          ]
        }
      ]
    },
    {
      "cell_type": "code",
      "source": [
        "print(classification_report(y_test, y_pred))"
      ],
      "metadata": {
        "colab": {
          "base_uri": "https://localhost:8080/"
        },
        "id": "hPowofv6lOOg",
        "outputId": "1cf7649c-fd78-4f2e-cc39-19d1d70055b7"
      },
      "execution_count": 35,
      "outputs": [
        {
          "output_type": "stream",
          "name": "stdout",
          "text": [
            "              precision    recall  f1-score   support\n",
            "\n",
            "           0       0.76      0.71      0.74       714\n",
            "           1       0.73      0.78      0.76       720\n",
            "\n",
            "    accuracy                           0.75      1434\n",
            "   macro avg       0.75      0.75      0.75      1434\n",
            "weighted avg       0.75      0.75      0.75      1434\n",
            "\n"
          ]
        }
      ]
    },
    {
      "cell_type": "code",
      "source": [
        "cm = confusion_matrix(y_test, y_pred)\n",
        "cm_matrix = pd.DataFrame(data = cm, columns = ['Actual Positive:0', 'Actual Negative:1'], index = ['Predict Positive:0', 'Predict Negative:1'])\n",
        "sns.heatmap(cm_matrix, annot = True, fmt = 'd', cmap = 'YlGnBu')"
      ],
      "metadata": {
        "colab": {
          "base_uri": "https://localhost:8080/",
          "height": 282
        },
        "id": "2GfTvBEelKgk",
        "outputId": "91b8ec36-e673-4302-f0cd-cd3de89bf3d0"
      },
      "execution_count": 36,
      "outputs": [
        {
          "output_type": "execute_result",
          "data": {
            "text/plain": [
              "<matplotlib.axes._subplots.AxesSubplot at 0x7f046dfb4b50>"
            ]
          },
          "metadata": {},
          "execution_count": 36
        },
        {
          "output_type": "display_data",
          "data": {
            "text/plain": [
              "<Figure size 432x288 with 2 Axes>"
            ],
            "image/png": "[encoded data removed]"
          },
          "metadata": {
            "needs_background": "light"
          }
        }
      ]
    }
  ],
  "metadata": {
    "colab": {
      "provenance": []
    },
    "kernelspec": {
      "display_name": "Python 3",
      "name": "python3"
    },
    "language_info": {
      "name": "python"
    }
  },
  "nbformat": 4,
  "nbformat_minor": 0
}