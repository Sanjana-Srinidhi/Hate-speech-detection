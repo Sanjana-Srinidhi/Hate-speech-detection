{
  "cells": [
    {
      "cell_type": "code",
      "source": [
        "from google.colab import drive\n",
        "drive.mount('/content/drive')"
      ],
      "metadata": {
        "colab": {
          "base_uri": "https://localhost:8080/"
        },
        "id": "Zo_SuFuM422k",
        "outputId": "51c10d8c-9e13-464c-b4f2-583b4b71a084"
      },
      "execution_count": 1,
      "outputs": [
        {
          "output_type": "stream",
          "name": "stdout",
          "text": [
            "Mounted at /content/drive\n"
          ]
        }
      ]
    },
    {
      "cell_type": "markdown",
      "metadata": {
        "id": "LHEJOIKRszPL"
      },
      "source": [
        "Installing dependencies"
      ]
    },
    {
      "cell_type": "markdown",
      "metadata": {
        "id": "XuZR1JwNs2Bd"
      },
      "source": [
        "Importing required libraries"
      ]
    },
    {
      "cell_type": "code",
      "execution_count": 2,
      "metadata": {
        "id": "N4JF4DwBgJ3g"
      },
      "outputs": [],
      "source": [
        "import numpy as np\n",
        "import pandas as pd\n",
        "import matplotlib.pyplot as plt\n",
        "import seaborn as sns\n",
        "import gensim\n",
        "import gensim.downloader as api\n",
        "import tensorflow as tf\n",
        "from tensorflow import keras\n",
        "from tensorflow.keras.utils import to_categorical\n",
        "from tensorflow.keras.models import Sequential \n",
        "from tensorflow.keras.layers import Dense, LSTM, Embedding,Bidirectional, Dropout\n",
        "from keras.layers import *\n",
        "from keras.preprocessing.text import Tokenizer\n",
        "from keras_preprocessing.sequence import pad_sequences\n",
        "from keras.models import Sequential\n",
        "from keras.models import Model\n",
        "from sklearn import metrics\n",
        "from sklearn.metrics import confusion_matrix"
      ]
    },
    {
      "cell_type": "markdown",
      "metadata": {
        "id": "bkKG-gxXs4lJ"
      },
      "source": [
        "Pre-processing data"
      ]
    },
    {
      "cell_type": "code",
      "execution_count": 3,
      "metadata": {
        "id": "GLuVN5LrKs1r"
      },
      "outputs": [],
      "source": [
        "df_train = pd.read_csv('/content/drive/MyDrive/MI/data/train.csv')\n",
        "df_test = pd.read_csv('/content/drive/MyDrive/MI/data/test.csv')"
      ]
    },
    {
      "cell_type": "code",
      "execution_count": 4,
      "metadata": {
        "id": "tCpj9bN3MnUc"
      },
      "outputs": [],
      "source": [
        "y_train = to_categorical(df_train.label.values)\n",
        "y_test = to_categorical(df_test.label.values)"
      ]
    },
    {
      "cell_type": "code",
      "execution_count": 5,
      "metadata": {
        "id": "uBCswthAQVX9",
        "colab": {
          "base_uri": "https://localhost:8080/"
        },
        "outputId": "6ffc2903-6406-4436-c246-78d3def9274a"
      },
      "outputs": [
        {
          "output_type": "stream",
          "name": "stdout",
          "text": [
            "[==================================================] 100.0% 376.1/376.1MB downloaded\n",
            "The total number of words are :  400000\n",
            "<class 'dict'>\n"
          ]
        },
        {
          "output_type": "stream",
          "name": "stderr",
          "text": [
            "/usr/local/lib/python3.7/dist-packages/ipykernel_launcher.py:3: DeprecationWarning: Call to deprecated `wv` (Attribute will be removed in 4.0.0, use self instead).\n",
            "  This is separate from the ipykernel package so we can avoid doing imports until\n"
          ]
        }
      ],
      "source": [
        "glove_gensim  = api.load('glove-wiki-gigaword-300')\n",
        "np.random.seed(1)\n",
        "vocab = glove_gensim.wv.vocab\n",
        "print(\"The total number of words are : \",len(vocab))\n",
        "print(type(vocab))"
      ]
    },
    {
      "cell_type": "code",
      "source": [
        "vocab = list(vocab.keys())\n",
        "word_vec_dict = {}\n",
        "for word in vocab:\n",
        "  word_vec_dict[word] = glove_gensim.wv.get_vector(word)\n",
        "print(\"The no of key-value pairs : \",len(word_vec_dict)) "
      ],
      "metadata": {
        "id": "XzcXleW9quDc",
        "colab": {
          "base_uri": "https://localhost:8080/"
        },
        "outputId": "878e81fc-482f-4aaa-f11a-a02af0758a6c"
      },
      "execution_count": 6,
      "outputs": [
        {
          "output_type": "stream",
          "name": "stderr",
          "text": [
            "/usr/local/lib/python3.7/dist-packages/ipykernel_launcher.py:4: DeprecationWarning: Call to deprecated `wv` (Attribute will be removed in 4.0.0, use self instead).\n",
            "  after removing the cwd from sys.path.\n"
          ]
        },
        {
          "output_type": "stream",
          "name": "stdout",
          "text": [
            "The no of key-value pairs :  400000\n"
          ]
        }
      ]
    },
    {
      "cell_type": "code",
      "source": [
        "maxi = -1\n",
        "for i, rev in enumerate(df_train['text']):\n",
        "  rev = str(rev)\n",
        "  tokens = rev.split()\n",
        "  if(len(tokens) > maxi):\n",
        "    maxi = len(tokens)\n",
        "print(maxi)"
      ],
      "metadata": {
        "id": "7qg6BcVirS3L",
        "colab": {
          "base_uri": "https://localhost:8080/"
        },
        "outputId": "0dbdadbb-2016-4fa7-d20b-434cfa193d42"
      },
      "execution_count": 8,
      "outputs": [
        {
          "output_type": "stream",
          "name": "stdout",
          "text": [
            "20\n"
          ]
        }
      ]
    },
    {
      "cell_type": "code",
      "source": [
        "df_train['text'] = df_train['text'].astype('string')"
      ],
      "metadata": {
        "id": "sXTS7pIc7zQ8"
      },
      "execution_count": 14,
      "outputs": []
    },
    {
      "cell_type": "code",
      "source": [
        "df_train.isna().sum()"
      ],
      "metadata": {
        "colab": {
          "base_uri": "https://localhost:8080/"
        },
        "id": "kdIEy8yD8JZ_",
        "outputId": "e68f75c2-30b1-4e27-e5c0-2a65e46f3b7f"
      },
      "execution_count": 19,
      "outputs": [
        {
          "output_type": "execute_result",
          "data": {
            "text/plain": [
              "text     2\n",
              "label    0\n",
              "dtype: int64"
            ]
          },
          "metadata": {},
          "execution_count": 19
        }
      ]
    },
    {
      "cell_type": "code",
      "source": [
        "df_train = df_train.dropna()"
      ],
      "metadata": {
        "id": "BxJCHliW8MnR"
      },
      "execution_count": 20,
      "outputs": []
    },
    {
      "cell_type": "code",
      "execution_count": 21,
      "metadata": {
        "id": "BtPzKF3CPb0u"
      },
      "outputs": [],
      "source": [
        "tokenizer = Tokenizer()\n",
        "df_total = pd.concat([df_train['text'], df_test.text], axis = 0)\n",
        "tokenizer.fit_on_texts(df_total)"
      ]
    },
    {
      "cell_type": "code",
      "source": [
        "max_rev_len = maxi  # max lenght of a word\n",
        "vocab_size = len(tokenizer.word_index) + 1 # total no of words\n",
        "embed_dim = 300"
      ],
      "metadata": {
        "id": "tZd_39tgrg-E"
      },
      "execution_count": 22,
      "outputs": []
    },
    {
      "cell_type": "code",
      "source": [
        "print(len(tokenizer.word_index))"
      ],
      "metadata": {
        "colab": {
          "base_uri": "https://localhost:8080/"
        },
        "id": "Bl2IEbgZ60Cw",
        "outputId": "57c0666d-adf6-4437-98c8-4c1e3197a9de"
      },
      "execution_count": 23,
      "outputs": [
        {
          "output_type": "stream",
          "name": "stdout",
          "text": [
            "10644\n"
          ]
        }
      ]
    },
    {
      "cell_type": "code",
      "source": [
        "X_train = tokenizer.texts_to_sequences(df_train['text']) #converting texts into some numeric sequences \n",
        "X_train_pad = pad_sequences(X_train, maxlen = max_rev_len, padding = 'post') #making the length of all numeric sequences equal \n",
        "X_test = tokenizer.texts_to_sequences(df_test.text)\n",
        "X_test_pad = pad_sequences(X_test, maxlen = max_rev_len, padding = 'post')"
      ],
      "metadata": {
        "id": "goJ2Rxxzrhwp"
      },
      "execution_count": 24,
      "outputs": []
    },
    {
      "cell_type": "code",
      "execution_count": 25,
      "metadata": {
        "id": "DLS0iI6vQbBq",
        "colab": {
          "base_uri": "https://localhost:8080/"
        },
        "outputId": "53867df2-57ac-4ab9-8bf1-2243dd226287"
      },
      "outputs": [
        {
          "output_type": "execute_result",
          "data": {
            "text/plain": [
              "array([[ 0.        ,  0.        ,  0.        , ...,  0.        ,\n",
              "         0.        ,  0.        ],\n",
              "       [ 0.04656   ,  0.21318001, -0.0074364 , ...,  0.0090611 ,\n",
              "        -0.20988999,  0.053913  ],\n",
              "       [-0.29712   ,  0.094049  , -0.096662  , ...,  0.059717  ,\n",
              "        -0.22853   ,  0.29602   ],\n",
              "       ...,\n",
              "       [ 0.38248   ,  0.027127  , -0.43937999, ...,  0.18257   ,\n",
              "        -0.25413001,  0.23254   ],\n",
              "       [ 0.56656998,  0.21641999, -0.11517   , ...,  0.078156  ,\n",
              "        -0.039554  ,  0.19416   ],\n",
              "       [ 0.        ,  0.        ,  0.        , ...,  0.        ,\n",
              "         0.        ,  0.        ]])"
            ]
          },
          "metadata": {},
          "execution_count": 25
        }
      ],
      "source": [
        "embed_matrix = np.zeros(shape = (vocab_size,embed_dim))\n",
        "for word, i in tokenizer.word_index.items():\n",
        "  embed_vector = word_vec_dict.get(word)\n",
        "  if embed_vector is not None:  # word is in the vocabulary learned by the w2v model\n",
        "    embed_matrix[i] = embed_vector\n",
        "embed_matrix"
      ]
    },
    {
      "cell_type": "markdown",
      "metadata": {
        "id": "CFRLMQ_ulu0z"
      },
      "source": [
        "Training the data on the model"
      ]
    },
    {
      "cell_type": "code",
      "execution_count": 26,
      "metadata": {
        "id": "VApUnoqhVK-a"
      },
      "outputs": [],
      "source": [
        "def create_model():\n",
        "  class_num = 2\n",
        "  model = Sequential()\n",
        "  model.add(Embedding(input_dim = vocab_size, output_dim = embed_dim, input_length = max_rev_len, weights = [embed_matrix], trainable = False))\n",
        "  model.add(Dropout(0.2))\n",
        "  model.add(Bidirectional(LSTM(128, return_sequences = True)))\n",
        "  model.add(Dropout(0.2))\n",
        "  model.add(Bidirectional(LSTM(128, return_sequences = True)))\n",
        "  model.add(Dropout(0.2))\n",
        "  model.add(Bidirectional(LSTM(64, return_sequences = False)))\n",
        "  model.add(Dense(class_num, activation = 'softmax'))\n",
        "  model.compile(loss = 'categorical_crossentropy', optimizer = 'adam', metrics = 'accuracy')\n",
        "  return model"
      ]
    },
    {
      "cell_type": "code",
      "execution_count": 27,
      "metadata": {
        "colab": {
          "base_uri": "https://localhost:8080/"
        },
        "id": "vGWa3Dwjrpev",
        "outputId": "6bdff618-8c1b-4c03-84a4-1ea430874ae5"
      },
      "outputs": [
        {
          "output_type": "stream",
          "name": "stdout",
          "text": [
            "Model: \"sequential\"\n",
            "_________________________________________________________________\n",
            " Layer (type)                Output Shape              Param #   \n",
            "=================================================================\n",
            " embedding (Embedding)       (None, 20, 300)           3193500   \n",
            "                                                                 \n",
            " dropout (Dropout)           (None, 20, 300)           0         \n",
            "                                                                 \n",
            " bidirectional (Bidirectiona  (None, 20, 256)          439296    \n",
            " l)                                                              \n",
            "                                                                 \n",
            " dropout_1 (Dropout)         (None, 20, 256)           0         \n",
            "                                                                 \n",
            " bidirectional_1 (Bidirectio  (None, 20, 256)          394240    \n",
            " nal)                                                            \n",
            "                                                                 \n",
            " dropout_2 (Dropout)         (None, 20, 256)           0         \n",
            "                                                                 \n",
            " bidirectional_2 (Bidirectio  (None, 128)              164352    \n",
            " nal)                                                            \n",
            "                                                                 \n",
            " dense (Dense)               (None, 2)                 258       \n",
            "                                                                 \n",
            "=================================================================\n",
            "Total params: 4,191,646\n",
            "Trainable params: 998,146\n",
            "Non-trainable params: 3,193,500\n",
            "_________________________________________________________________\n"
          ]
        }
      ],
      "source": [
        "model = create_model()\n",
        "model.summary()"
      ]
    },
    {
      "cell_type": "code",
      "execution_count": 28,
      "metadata": {
        "colab": {
          "base_uri": "https://localhost:8080/"
        },
        "id": "o5qjfKMwVq-y",
        "outputId": "b928ec6c-a5e9-4f19-cfb1-36eb52b6cb61"
      },
      "outputs": [
        {
          "output_type": "stream",
          "name": "stdout",
          "text": [
            "Epoch 1/10\n",
            "101/101 [==============================] - 48s 349ms/step - loss: 0.6317 - accuracy: 0.6455 - val_loss: 0.7964 - val_accuracy: 0.5160\n",
            "Epoch 2/10\n",
            "101/101 [==============================] - 36s 356ms/step - loss: 0.5810 - accuracy: 0.6941 - val_loss: 0.8233 - val_accuracy: 0.5105\n",
            "Epoch 3/10\n",
            "101/101 [==============================] - 32s 316ms/step - loss: 0.5492 - accuracy: 0.7229 - val_loss: 0.9325 - val_accuracy: 0.5146\n",
            "Epoch 4/10\n",
            "101/101 [==============================] - 36s 353ms/step - loss: 0.5123 - accuracy: 0.7522 - val_loss: 0.8977 - val_accuracy: 0.5160\n",
            "Epoch 5/10\n",
            "101/101 [==============================] - 34s 334ms/step - loss: 0.4720 - accuracy: 0.7781 - val_loss: 0.9808 - val_accuracy: 0.5188\n",
            "Epoch 6/10\n",
            "101/101 [==============================] - 32s 319ms/step - loss: 0.4287 - accuracy: 0.8048 - val_loss: 1.1889 - val_accuracy: 0.5119\n",
            "Epoch 7/10\n",
            "101/101 [==============================] - 34s 336ms/step - loss: 0.3917 - accuracy: 0.8194 - val_loss: 1.1484 - val_accuracy: 0.5188\n",
            "Epoch 8/10\n",
            "101/101 [==============================] - 32s 316ms/step - loss: 0.3403 - accuracy: 0.8533 - val_loss: 1.3349 - val_accuracy: 0.5216\n",
            "Epoch 9/10\n",
            "101/101 [==============================] - 34s 336ms/step - loss: 0.2872 - accuracy: 0.8780 - val_loss: 1.4779 - val_accuracy: 0.5105\n",
            "Epoch 10/10\n",
            "101/101 [==============================] - 32s 316ms/step - loss: 0.2555 - accuracy: 0.8915 - val_loss: 1.7185 - val_accuracy: 0.5021\n"
          ]
        }
      ],
      "source": [
        "history_embedding = model.fit(X_train_pad, y_train, epochs = 10, batch_size = 64, validation_split = 0.1, verbose = 1)"
      ]
    },
    {
      "cell_type": "markdown",
      "metadata": {
        "id": "XEDmEzBWtZDB"
      },
      "source": [
        "Visualizing the training and validation results"
      ]
    },
    {
      "cell_type": "code",
      "execution_count": 29,
      "metadata": {
        "id": "8gERSr8jyqAa",
        "colab": {
          "base_uri": "https://localhost:8080/",
          "height": 269
        },
        "outputId": "6e2f2fc3-8a39-4322-bf3b-272651543823"
      },
      "outputs": [
        {
          "output_type": "display_data",
          "data": {
            "text/plain": [
              "<Figure size 432x288 with 1 Axes>"
            ],
            "image/png": "[encoded data removed]"
          },
          "metadata": {
            "needs_background": "light"
          }
        }
      ],
      "source": [
        "plt.plot(history_embedding.history['loss'], c = 'b', label = 'train loss')\n",
        "plt.legend(loc = 'lower right')\n",
        "plt.show()"
      ]
    },
    {
      "cell_type": "code",
      "execution_count": 30,
      "metadata": {
        "id": "ZLFoUX5BV5RW",
        "colab": {
          "base_uri": "https://localhost:8080/",
          "height": 265
        },
        "outputId": "34e203a8-b1f4-4059-ab24-117bafb65341"
      },
      "outputs": [
        {
          "output_type": "display_data",
          "data": {
            "text/plain": [
              "<Figure size 432x288 with 1 Axes>"
            ],
            "image/png": "[encoded data removed]"
          },
          "metadata": {
            "needs_background": "light"
          }
        }
      ],
      "source": [
        "plt.plot(history_embedding.history['accuracy'], c = 'b', label = 'train accuracy')\n",
        "plt.plot(history_embedding.history['val_accuracy'] , c = 'r', label = 'validation accuracy')\n",
        "plt.legend(loc = 'lower right')\n",
        "plt.show()"
      ]
    },
    {
      "cell_type": "markdown",
      "metadata": {
        "id": "oMdxx-pbtdkK"
      },
      "source": [
        "Extracting classification report and confusion matrix"
      ]
    },
    {
      "cell_type": "code",
      "execution_count": 31,
      "metadata": {
        "id": "VvgZeO2kWrhO",
        "colab": {
          "base_uri": "https://localhost:8080/"
        },
        "outputId": "d23c3556-5adf-4e43-b5e7-5ca0f5250c19"
      },
      "outputs": [
        {
          "output_type": "stream",
          "name": "stdout",
          "text": [
            "56/56 [==============================] - 7s 72ms/step\n",
            "              precision    recall  f1-score   support\n",
            "\n",
            "           0       0.68      0.46      0.54       851\n",
            "           1       0.62      0.80      0.70       941\n",
            "\n",
            "    accuracy                           0.64      1792\n",
            "   macro avg       0.65      0.63      0.62      1792\n",
            "weighted avg       0.65      0.64      0.63      1792\n",
            "\n"
          ]
        }
      ],
      "source": [
        "y_pred = np.argmax(model.predict(X_test_pad), axis = 1)\n",
        "y_true = np.argmax(y_test, axis = 1)\n",
        "print(metrics.classification_report(y_true, y_pred))"
      ]
    },
    {
      "cell_type": "code",
      "execution_count": 32,
      "metadata": {
        "id": "3uyIs1r0En6R",
        "colab": {
          "base_uri": "https://localhost:8080/"
        },
        "outputId": "16749eb0-beb3-484d-edaf-de846241ecc5"
      },
      "outputs": [
        {
          "output_type": "stream",
          "name": "stdout",
          "text": [
            "[[388 463]\n",
            " [185 756]]\n"
          ]
        }
      ],
      "source": [
        "cm = confusion_matrix(y_true, y_pred)\n",
        "print(cm)"
      ]
    },
    {
      "cell_type": "code",
      "execution_count": 33,
      "metadata": {
        "id": "Lg4iq5iwbWYc",
        "colab": {
          "base_uri": "https://localhost:8080/",
          "height": 282
        },
        "outputId": "d0e9aec6-10d0-4d3b-e7e2-ae0403f3fcf8"
      },
      "outputs": [
        {
          "output_type": "execute_result",
          "data": {
            "text/plain": [
              "<matplotlib.axes._subplots.AxesSubplot at 0x7f21eaf552d0>"
            ]
          },
          "metadata": {},
          "execution_count": 33
        },
        {
          "output_type": "display_data",
          "data": {
            "text/plain": [
              "<Figure size 432x288 with 2 Axes>"
            ],
            "image/png": "[encoded data removed]"
          },
          "metadata": {
            "needs_background": "light"
          }
        }
      ],
      "source": [
        "cm_matrix = pd.DataFrame(data = cm, columns = ['Actual Positive:0', 'Actual Negative:1'], index = ['Predict Positive:0', 'Predict Negative:1'])\n",
        "sns.heatmap(cm_matrix, annot = True, fmt ='d', cmap = 'YlGnBu')"
      ]
    }
  ],
  "metadata": {
    "colab": {
      "provenance": []
    },
    "kernelspec": {
      "display_name": "Python 3",
      "name": "python3"
    },
    "language_info": {
      "name": "python"
    },
    "accelerator": "GPU",
    "gpuClass": "standard"
  },
  "nbformat": 4,
  "nbformat_minor": 0
}