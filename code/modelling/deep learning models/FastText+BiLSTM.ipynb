{
  "cells": [
    {
      "cell_type": "code",
      "source": [
        "from google.colab import drive\n",
        "drive.mount('/content/drive')"
      ],
      "metadata": {
        "colab": {
          "base_uri": "https://localhost:8080/"
        },
        "id": "j4tEM_eu16ie",
        "outputId": "82c36b77-e2ec-4b9b-9f35-bceabacd08c2"
      },
      "execution_count": 1,
      "outputs": [
        {
          "output_type": "stream",
          "name": "stdout",
          "text": [
            "Mounted at /content/drive\n"
          ]
        }
      ]
    },
    {
      "cell_type": "markdown",
      "metadata": {
        "id": "LHEJOIKRszPL"
      },
      "source": [
        "Installing dependencies"
      ]
    },
    {
      "cell_type": "code",
      "execution_count": 2,
      "metadata": {
        "colab": {
          "base_uri": "https://localhost:8080/"
        },
        "id": "KXEUAjPkKRPo",
        "outputId": "3a9d832e-c694-407c-dcc7-cfb0983c207f"
      },
      "outputs": [
        {
          "output_type": "stream",
          "name": "stdout",
          "text": [
            "Looking in indexes: https://pypi.org/simple, https://us-python.pkg.dev/colab-wheels/public/simple/\n",
            "Collecting fastText\n",
            "  Downloading fasttext-0.9.2.tar.gz (68 kB)\n",
            "\u001b[K     |████████████████████████████████| 68 kB 3.5 MB/s \n",
            "\u001b[?25hCollecting pybind11>=2.2\n",
            "  Using cached pybind11-2.10.1-py3-none-any.whl (216 kB)\n",
            "Requirement already satisfied: setuptools>=0.7.0 in /usr/local/lib/python3.7/dist-packages (from fastText) (57.4.0)\n",
            "Requirement already satisfied: numpy in /usr/local/lib/python3.7/dist-packages (from fastText) (1.21.6)\n",
            "Building wheels for collected packages: fastText\n",
            "  Building wheel for fastText (setup.py) ... \u001b[?25l\u001b[?25hdone\n",
            "  Created wheel for fastText: filename=fasttext-0.9.2-cp37-cp37m-linux_x86_64.whl size=3163180 sha256=2674107dd4af4a86d24df23719bc477ef50dd664248a3bcc1d318945dfb93eae\n",
            "  Stored in directory: /root/.cache/pip/wheels/4e/ca/bf/b020d2be95f7641801a6597a29c8f4f19e38f9c02a345bab9b\n",
            "Successfully built fastText\n",
            "Installing collected packages: pybind11, fastText\n",
            "Successfully installed fastText-0.9.2 pybind11-2.10.1\n"
          ]
        }
      ],
      "source": [
        "!pip install fastText"
      ]
    },
    {
      "cell_type": "markdown",
      "metadata": {
        "id": "XuZR1JwNs2Bd"
      },
      "source": [
        "Importing required libraries"
      ]
    },
    {
      "cell_type": "code",
      "execution_count": 4,
      "metadata": {
        "id": "N4JF4DwBgJ3g"
      },
      "outputs": [],
      "source": [
        "import numpy as np\n",
        "import pandas as pd\n",
        "import matplotlib.pyplot as plt\n",
        "import seaborn as sns\n",
        "import tensorflow as tf\n",
        "from tensorflow import keras\n",
        "from tensorflow.keras.utils import to_categorical\n",
        "from tensorflow.keras.models import Sequential \n",
        "from tensorflow.keras.layers import Dense, LSTM, Embedding, Bidirectional, Dropout\n",
        "from keras.layers import *\n",
        "from keras.preprocessing.text import Tokenizer\n",
        "from keras_preprocessing.sequence import pad_sequences\n",
        "from keras.models import Sequential\n",
        "from keras.models import Model\n",
        "from sklearn import metrics\n",
        "from sklearn.metrics import confusion_matrix"
      ]
    },
    {
      "cell_type": "code",
      "source": [
        "import fasttext\n",
        "import fasttext.util\n",
        "fasttext.util.download_model('en', if_exists='ignore')  \n",
        "ft = fasttext.load_model('cc.en.300.bin')"
      ],
      "metadata": {
        "id": "R1h0GxwuLr85",
        "colab": {
          "base_uri": "https://localhost:8080/"
        },
        "outputId": "0a8b6fd1-814b-408f-dc93-86cbd94d0ceb"
      },
      "execution_count": 5,
      "outputs": [
        {
          "output_type": "stream",
          "name": "stdout",
          "text": [
            "Downloading https://dl.fbaipublicfiles.com/fasttext/vectors-crawl/cc.en.300.bin.gz\n",
            "\n"
          ]
        },
        {
          "output_type": "stream",
          "name": "stderr",
          "text": [
            "Warning : `load_model` does not return WordVectorModel or SupervisedModel any more, but a `FastText` object which is very similar.\n"
          ]
        }
      ]
    },
    {
      "cell_type": "markdown",
      "metadata": {
        "id": "bkKG-gxXs4lJ"
      },
      "source": [
        "Pre-processing data"
      ]
    },
    {
      "cell_type": "code",
      "source": [
        "df_train = pd.read_csv('/content/drive/MyDrive/MI/data/train.csv')\n",
        "df_test = pd.read_csv('/content/drive/MyDrive/MI/data/test.csv')"
      ],
      "metadata": {
        "id": "93_lgAp6smfL"
      },
      "execution_count": 6,
      "outputs": []
    },
    {
      "cell_type": "code",
      "execution_count": 7,
      "metadata": {
        "id": "tCpj9bN3MnUc"
      },
      "outputs": [],
      "source": [
        "y_train = to_categorical(df_train.label.values)\n",
        "y_test = to_categorical(df_test.label.values)"
      ]
    },
    {
      "cell_type": "code",
      "source": [
        "df_train['text'] = df_train['text'].astype('string')"
      ],
      "metadata": {
        "id": "gX1yKmtL8XOQ"
      },
      "execution_count": 8,
      "outputs": []
    },
    {
      "cell_type": "code",
      "source": [
        "df_train.isna().sum()"
      ],
      "metadata": {
        "colab": {
          "base_uri": "https://localhost:8080/"
        },
        "id": "t9DipTWB8caV",
        "outputId": "acf4a35f-55fc-4a1d-99c2-1fe3a3d7338b"
      },
      "execution_count": 9,
      "outputs": [
        {
          "output_type": "execute_result",
          "data": {
            "text/plain": [
              "text     2\n",
              "label    0\n",
              "dtype: int64"
            ]
          },
          "metadata": {},
          "execution_count": 9
        }
      ]
    },
    {
      "cell_type": "code",
      "source": [
        "df_train = df_train.dropna()\n",
        "df_train.isna().sum()"
      ],
      "metadata": {
        "colab": {
          "base_uri": "https://localhost:8080/"
        },
        "id": "7oawdM2j8fxp",
        "outputId": "d38f0a38-11e5-41fa-9808-bda4c816e436"
      },
      "execution_count": 10,
      "outputs": [
        {
          "output_type": "execute_result",
          "data": {
            "text/plain": [
              "text     0\n",
              "label    0\n",
              "dtype: int64"
            ]
          },
          "metadata": {},
          "execution_count": 10
        }
      ]
    },
    {
      "cell_type": "code",
      "source": [
        "maxi = -1\n",
        "for i, rev in enumerate(df_train['text']):\n",
        "    tokens = rev.split()\n",
        "    if(len(tokens) > maxi):\n",
        "        maxi = len(tokens)\n",
        "print(maxi)"
      ],
      "metadata": {
        "id": "7qg6BcVirS3L",
        "colab": {
          "base_uri": "https://localhost:8080/"
        },
        "outputId": "c890236b-531f-41c3-f607-6bf36b0647d1"
      },
      "execution_count": 11,
      "outputs": [
        {
          "output_type": "stream",
          "name": "stdout",
          "text": [
            "20\n"
          ]
        }
      ]
    },
    {
      "cell_type": "code",
      "execution_count": 12,
      "metadata": {
        "id": "BtPzKF3CPb0u"
      },
      "outputs": [],
      "source": [
        "#tokenizing the tweet text\n",
        "tokenizer = Tokenizer()\n",
        "df_total = pd.concat([df_train['text'], df_test.text], axis = 0)\n",
        "tokenizer.fit_on_texts(df_total)"
      ]
    },
    {
      "cell_type": "code",
      "source": [
        "max_rev_len = maxi  # max lenght of a word\n",
        "vocab_size = len(tokenizer.word_index) + 1 # total no of words\n",
        "embed_dim = 300"
      ],
      "metadata": {
        "id": "tZd_39tgrg-E"
      },
      "execution_count": 13,
      "outputs": []
    },
    {
      "cell_type": "code",
      "source": [
        "print(len(tokenizer.word_index))"
      ],
      "metadata": {
        "id": "Bl2IEbgZ60Cw",
        "colab": {
          "base_uri": "https://localhost:8080/"
        },
        "outputId": "50df9ae0-1de6-4174-fb34-da4dc0ea60be"
      },
      "execution_count": 14,
      "outputs": [
        {
          "output_type": "stream",
          "name": "stdout",
          "text": [
            "10644\n"
          ]
        }
      ]
    },
    {
      "cell_type": "code",
      "source": [
        "#padding the tokenized text\n",
        "X_train = tokenizer.texts_to_sequences(df_train['text']) #converting texts into some numeric sequences \n",
        "X_train_pad = pad_sequences(X_train, maxlen = max_rev_len, padding = 'post') #making the length of all numeric sequences equal \n",
        "X_test = tokenizer.texts_to_sequences(df_test.text)\n",
        "X_test_pad = pad_sequences(X_test, maxlen = max_rev_len, padding = 'post')"
      ],
      "metadata": {
        "id": "goJ2Rxxzrhwp"
      },
      "execution_count": 15,
      "outputs": []
    },
    {
      "cell_type": "code",
      "execution_count": 16,
      "metadata": {
        "id": "DLS0iI6vQbBq",
        "colab": {
          "base_uri": "https://localhost:8080/"
        },
        "outputId": "597b381d-40d7-4080-9409-457921b3c50e"
      },
      "outputs": [
        {
          "output_type": "execute_result",
          "data": {
            "text/plain": [
              "array([[ 0.00000000e+00,  0.00000000e+00,  0.00000000e+00, ...,\n",
              "         0.00000000e+00,  0.00000000e+00,  0.00000000e+00],\n",
              "       [-5.17441928e-02,  7.39639550e-02, -1.30568799e-02, ...,\n",
              "         2.37025172e-01,  4.47519124e-04, -4.19306662e-03],\n",
              "       [ 8.76430497e-02, -4.95901257e-01, -4.98549901e-02, ...,\n",
              "         5.34850955e-01, -5.58103584e-02, -1.65984333e-02],\n",
              "       ...,\n",
              "       [-5.86136058e-03, -5.20238169e-02, -3.51554677e-02, ...,\n",
              "         5.02261408e-02, -1.76106580e-02, -4.63075191e-02],\n",
              "       [-7.36382455e-02,  1.09481346e-03,  6.54756743e-03, ...,\n",
              "         2.95933709e-02,  1.84881873e-03, -5.54246493e-02],\n",
              "       [ 2.35681795e-02, -1.01697538e-02,  7.46165495e-03, ...,\n",
              "         7.01421201e-02,  4.00606077e-03, -1.00959511e-02]])"
            ]
          },
          "metadata": {},
          "execution_count": 16
        }
      ],
      "source": [
        "# now creating the embedding matrix\n",
        "embed_matrix = np.zeros(shape = (vocab_size, embed_dim))\n",
        "for word, i in tokenizer.word_index.items():\n",
        "  embed_vector = ft.get_word_vector(word)\n",
        "  if embed_vector is not None:  # word is in the vocabulary learned by the fasttext model\n",
        "    embed_matrix[i] = embed_vector\n",
        "embed_matrix"
      ]
    },
    {
      "cell_type": "markdown",
      "metadata": {
        "id": "CFRLMQ_ulu0z"
      },
      "source": [
        "Training the data on the model"
      ]
    },
    {
      "cell_type": "code",
      "execution_count": 17,
      "metadata": {
        "id": "VApUnoqhVK-a"
      },
      "outputs": [],
      "source": [
        "#defining the layers in the model\n",
        "def create_model():\n",
        "  class_num = 2\n",
        "  model = Sequential()\n",
        "  model.add(Embedding(input_dim = vocab_size, output_dim = embed_dim, input_length = max_rev_len, weights = [embed_matrix], trainable = False))\n",
        "  model.add(Dropout(0.2))\n",
        "  model.add(Bidirectional(LSTM(128, return_sequences = True)))\n",
        "  model.add(Dropout(0.2))\n",
        "  model.add(Bidirectional(LSTM(128, return_sequences = True)))\n",
        "  model.add(Dropout(0.2))\n",
        "  model.add(Bidirectional(LSTM(64, return_sequences = False)))\n",
        "  model.add(Dense(class_num, activation = 'softmax'))\n",
        "  model.compile(loss = 'categorical_crossentropy', optimizer = 'adam', metrics = 'accuracy')\n",
        "  return model"
      ]
    },
    {
      "cell_type": "code",
      "execution_count": 18,
      "metadata": {
        "id": "vGWa3Dwjrpev",
        "colab": {
          "base_uri": "https://localhost:8080/"
        },
        "outputId": "472cad54-2780-41f3-b6e4-5ce86fbdf361"
      },
      "outputs": [
        {
          "output_type": "stream",
          "name": "stdout",
          "text": [
            "Model: \"sequential\"\n",
            "_________________________________________________________________\n",
            " Layer (type)                Output Shape              Param #   \n",
            "=================================================================\n",
            " embedding (Embedding)       (None, 20, 300)           3193500   \n",
            "                                                                 \n",
            " dropout (Dropout)           (None, 20, 300)           0         \n",
            "                                                                 \n",
            " bidirectional (Bidirectiona  (None, 20, 256)          439296    \n",
            " l)                                                              \n",
            "                                                                 \n",
            " dropout_1 (Dropout)         (None, 20, 256)           0         \n",
            "                                                                 \n",
            " bidirectional_1 (Bidirectio  (None, 20, 256)          394240    \n",
            " nal)                                                            \n",
            "                                                                 \n",
            " dropout_2 (Dropout)         (None, 20, 256)           0         \n",
            "                                                                 \n",
            " bidirectional_2 (Bidirectio  (None, 128)              164352    \n",
            " nal)                                                            \n",
            "                                                                 \n",
            " dense (Dense)               (None, 2)                 258       \n",
            "                                                                 \n",
            "=================================================================\n",
            "Total params: 4,191,646\n",
            "Trainable params: 998,146\n",
            "Non-trainable params: 3,193,500\n",
            "_________________________________________________________________\n"
          ]
        }
      ],
      "source": [
        "model = create_model()\n",
        "model.summary()"
      ]
    },
    {
      "cell_type": "code",
      "execution_count": 19,
      "metadata": {
        "id": "o5qjfKMwVq-y",
        "colab": {
          "base_uri": "https://localhost:8080/"
        },
        "outputId": "42b23879-f72e-4d02-9ae9-95946057d331"
      },
      "outputs": [
        {
          "output_type": "stream",
          "name": "stdout",
          "text": [
            "Epoch 1/10\n",
            "101/101 [==============================] - 47s 332ms/step - loss: 0.6391 - accuracy: 0.6265 - val_loss: 0.7902 - val_accuracy: 0.5049\n",
            "Epoch 2/10\n",
            "101/101 [==============================] - 30s 294ms/step - loss: 0.6017 - accuracy: 0.6827 - val_loss: 0.7977 - val_accuracy: 0.5132\n",
            "Epoch 3/10\n",
            "101/101 [==============================] - 31s 310ms/step - loss: 0.5830 - accuracy: 0.6978 - val_loss: 0.8281 - val_accuracy: 0.5132\n",
            "Epoch 4/10\n",
            "101/101 [==============================] - 29s 292ms/step - loss: 0.5702 - accuracy: 0.7096 - val_loss: 0.8350 - val_accuracy: 0.4979\n",
            "Epoch 5/10\n",
            "101/101 [==============================] - 31s 309ms/step - loss: 0.5570 - accuracy: 0.7209 - val_loss: 0.8703 - val_accuracy: 0.5021\n",
            "Epoch 6/10\n",
            "101/101 [==============================] - 29s 289ms/step - loss: 0.5444 - accuracy: 0.7316 - val_loss: 0.8566 - val_accuracy: 0.4951\n",
            "Epoch 7/10\n",
            "101/101 [==============================] - 31s 307ms/step - loss: 0.5304 - accuracy: 0.7428 - val_loss: 1.0279 - val_accuracy: 0.5021\n",
            "Epoch 8/10\n",
            "101/101 [==============================] - 31s 309ms/step - loss: 0.5167 - accuracy: 0.7488 - val_loss: 0.9363 - val_accuracy: 0.5049\n",
            "Epoch 9/10\n",
            "101/101 [==============================] - 29s 290ms/step - loss: 0.5117 - accuracy: 0.7552 - val_loss: 0.8991 - val_accuracy: 0.5105\n",
            "Epoch 10/10\n",
            "101/101 [==============================] - 31s 307ms/step - loss: 0.4916 - accuracy: 0.7654 - val_loss: 0.9999 - val_accuracy: 0.5049\n"
          ]
        }
      ],
      "source": [
        "history_embedding = model.fit(X_train_pad, y_train, epochs = 10, batch_size = 64, validation_split = 0.1, verbose = 1)"
      ]
    },
    {
      "cell_type": "markdown",
      "metadata": {
        "id": "XEDmEzBWtZDB"
      },
      "source": [
        "Visualizing the training and validation results"
      ]
    },
    {
      "cell_type": "code",
      "execution_count": 20,
      "metadata": {
        "id": "8gERSr8jyqAa",
        "colab": {
          "base_uri": "https://localhost:8080/",
          "height": 265
        },
        "outputId": "d0f637c5-e4b9-4a91-c779-59c045b0cce5"
      },
      "outputs": [
        {
          "output_type": "display_data",
          "data": {
            "text/plain": [
              "<Figure size 432x288 with 1 Axes>"
            ],
            "image/png": "[encoded data removed]"
          },
          "metadata": {
            "needs_background": "light"
          }
        }
      ],
      "source": [
        "plt.plot(history_embedding.history['loss'], c = 'b', label = 'train loss')\n",
        "plt.legend(loc = 'lower right')\n",
        "plt.show()"
      ]
    },
    {
      "cell_type": "code",
      "execution_count": 21,
      "metadata": {
        "id": "ZLFoUX5BV5RW",
        "colab": {
          "base_uri": "https://localhost:8080/",
          "height": 265
        },
        "outputId": "d16af70a-5b0d-4a4e-9a4e-6f633e576445"
      },
      "outputs": [
        {
          "output_type": "display_data",
          "data": {
            "text/plain": [
              "<Figure size 432x288 with 1 Axes>"
            ],
            "image/png": "[encoded data removed]"
          },
          "metadata": {
            "needs_background": "light"
          }
        }
      ],
      "source": [
        "plt.plot(history_embedding.history['accuracy'], c = 'b', label = 'train accuracy')\n",
        "plt.plot(history_embedding.history['val_accuracy'] , c = 'r', label = 'validation accuracy')\n",
        "plt.legend(loc = 'lower right')\n",
        "plt.show()"
      ]
    },
    {
      "cell_type": "markdown",
      "metadata": {
        "id": "oMdxx-pbtdkK"
      },
      "source": [
        "Extracting classification report and confusion matrix"
      ]
    },
    {
      "cell_type": "code",
      "execution_count": 22,
      "metadata": {
        "id": "VvgZeO2kWrhO",
        "colab": {
          "base_uri": "https://localhost:8080/"
        },
        "outputId": "8f206b3c-6e2c-4296-dd99-a57c03d54989"
      },
      "outputs": [
        {
          "output_type": "stream",
          "name": "stdout",
          "text": [
            "56/56 [==============================] - 6s 68ms/step\n",
            "              precision    recall  f1-score   support\n",
            "\n",
            "           0       0.60      0.76      0.67       851\n",
            "           1       0.71      0.55      0.62       941\n",
            "\n",
            "    accuracy                           0.65      1792\n",
            "   macro avg       0.66      0.65      0.64      1792\n",
            "weighted avg       0.66      0.65      0.64      1792\n",
            "\n"
          ]
        }
      ],
      "source": [
        "y_pred = np.argmax(model.predict(X_test_pad), axis = 1)\n",
        "y_true = np.argmax(y_test, axis = 1)\n",
        "print(metrics.classification_report(y_true, y_pred))"
      ]
    },
    {
      "cell_type": "code",
      "execution_count": 23,
      "metadata": {
        "id": "3uyIs1r0En6R",
        "colab": {
          "base_uri": "https://localhost:8080/"
        },
        "outputId": "6ef7fb4e-fae3-4401-e363-cf76cf3ae4b7"
      },
      "outputs": [
        {
          "output_type": "stream",
          "name": "stdout",
          "text": [
            "[[643 208]\n",
            " [428 513]]\n"
          ]
        }
      ],
      "source": [
        "cm = confusion_matrix(y_true, y_pred)\n",
        "print(cm)"
      ]
    },
    {
      "cell_type": "code",
      "execution_count": 24,
      "metadata": {
        "id": "Lg4iq5iwbWYc",
        "colab": {
          "base_uri": "https://localhost:8080/",
          "height": 282
        },
        "outputId": "0da94e56-b55b-4f6b-d994-4368df21c7c7"
      },
      "outputs": [
        {
          "output_type": "execute_result",
          "data": {
            "text/plain": [
              "<matplotlib.axes._subplots.AxesSubplot at 0x7faa52bb0290>"
            ]
          },
          "metadata": {},
          "execution_count": 24
        },
        {
          "output_type": "display_data",
          "data": {
            "text/plain": [
              "<Figure size 432x288 with 2 Axes>"
            ],
            "image/png": "[encoded data removed]"
          },
          "metadata": {
            "needs_background": "light"
          }
        }
      ],
      "source": [
        "cm_matrix = pd.DataFrame(data = cm, columns = ['Actual Positive:0', 'Actual Negative:1'], index = ['Predict Positive:0', 'Predict Negative:1'])\n",
        "sns.heatmap(cm_matrix, annot = True, fmt = 'd', cmap = 'YlGnBu')"
      ]
    }
  ],
  "metadata": {
    "colab": {
      "provenance": []
    },
    "kernelspec": {
      "display_name": "Python 3",
      "name": "python3"
    },
    "language_info": {
      "name": "python"
    },
    "accelerator": "GPU",
    "gpuClass": "standard"
  },
  "nbformat": 4,
  "nbformat_minor": 0
}